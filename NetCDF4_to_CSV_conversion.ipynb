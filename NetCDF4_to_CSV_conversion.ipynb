{
  "nbformat": 4,
  "nbformat_minor": 0,
  "metadata": {
    "colab": {
      "provenance": []
    },
    "kernelspec": {
      "name": "python3",
      "display_name": "Python 3"
    },
    "language_info": {
      "name": "python"
    }
  },
  "cells": [
    {
      "cell_type": "code",
      "execution_count": null,
      "metadata": {
        "id": "ZACHCLPNHuhA"
      },
      "outputs": [],
      "source": [
        "!pip install netCDF4"
      ]
    },
    {
      "cell_type": "code",
      "source": [
        "import netCDF4\n",
        "import numpy as np\n",
        "import xarray as xr\n",
        "import pandas as pd"
      ],
      "metadata": {
        "id": "ZLdF-acOH1qd"
      },
      "execution_count": null,
      "outputs": []
    },
    {
      "cell_type": "code",
      "source": [
        "df = xr.open_dataset('dataset.nc')"
      ],
      "metadata": {
        "id": "O2QSb66xH29r"
      },
      "execution_count": null,
      "outputs": []
    },
    {
      "cell_type": "code",
      "source": [
        "#Function converts dataset to CSV \n",
        "## NOTE: add saving path to x.csv\n",
        "\n",
        "def convert_data(x):\n",
        "  x = x.to_dataframe() \n",
        "  x.reset_index(inplace=True)\n",
        "  x.to_csv('x.csv')\n",
        "\n",
        "#call the function\n",
        "convert_data(df)  "
      ],
      "metadata": {
        "id": "nbbYnDfPIt4G"
      },
      "execution_count": null,
      "outputs": []
    },
    {
      "cell_type": "code",
      "source": [
        "convert_data(df)"
      ],
      "metadata": {
        "id": "fCgLamV2Jgu9"
      },
      "execution_count": null,
      "outputs": []
    },
    {
      "cell_type": "code",
      "source": [
        "#To reduce the dimension of the data by longitude or lattitude\n",
        "\n",
        "df2 = df[df['longitude'].between(-45, -44, inclusive=True)]"
      ],
      "metadata": {
        "id": "G2RF3ZPbJyBA"
      },
      "execution_count": null,
      "outputs": []
    }
  ]
}